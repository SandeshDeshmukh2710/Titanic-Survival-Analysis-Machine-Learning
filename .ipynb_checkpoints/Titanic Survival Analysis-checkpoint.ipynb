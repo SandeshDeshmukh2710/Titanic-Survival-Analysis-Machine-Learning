{
 "cells": [
  {
   "cell_type": "code",
   "execution_count": 1,
   "metadata": {},
   "outputs": [],
   "source": [
    "import numpy as np\n",
    "import pandas as pd\n",
    "import seaborn as sb\n",
    "import matplotlib.pyplot as plt\n",
    "from matplotlib.pyplot import figure,show \n",
    "from seaborn import countplot\n",
    "from sklearn.model_selection import train_test_split\n",
    "from sklearn.linear_model import LogisticRegression\n",
    "from sklearn.metrics import accuracy_score\n",
    "from sklearn.metrics import confusion_matrix\n"
   ]
  },
  {
   "cell_type": "markdown",
   "metadata": {},
   "source": [
    "# Step 1 - Load Data"
   ]
  },
  {
   "cell_type": "code",
   "execution_count": 2,
   "metadata": {},
   "outputs": [],
   "source": [
    "Titanic_Data = pd.read_csv(\"Titanic.csv\")\n"
   ]
  },
  {
   "cell_type": "code",
   "execution_count": 3,
   "metadata": {},
   "outputs": [
    {
     "data": {
      "text/html": [
       "<div>\n",
       "<style scoped>\n",
       "    .dataframe tbody tr th:only-of-type {\n",
       "        vertical-align: middle;\n",
       "    }\n",
       "\n",
       "    .dataframe tbody tr th {\n",
       "        vertical-align: top;\n",
       "    }\n",
       "\n",
       "    .dataframe thead th {\n",
       "        text-align: right;\n",
       "    }\n",
       "</style>\n",
       "<table border=\"1\" class=\"dataframe\">\n",
       "  <thead>\n",
       "    <tr style=\"text-align: right;\">\n",
       "      <th></th>\n",
       "      <th>Passengerid</th>\n",
       "      <th>Age</th>\n",
       "      <th>Fare</th>\n",
       "      <th>Sex</th>\n",
       "      <th>sibsp</th>\n",
       "      <th>Parch</th>\n",
       "      <th>zero</th>\n",
       "      <th>Pclass</th>\n",
       "      <th>Embarked</th>\n",
       "      <th>Survived</th>\n",
       "    </tr>\n",
       "  </thead>\n",
       "  <tbody>\n",
       "    <tr>\n",
       "      <th>0</th>\n",
       "      <td>1</td>\n",
       "      <td>22.0</td>\n",
       "      <td>7.2500</td>\n",
       "      <td>0</td>\n",
       "      <td>1</td>\n",
       "      <td>0</td>\n",
       "      <td>0</td>\n",
       "      <td>3</td>\n",
       "      <td>2.0</td>\n",
       "      <td>0</td>\n",
       "    </tr>\n",
       "    <tr>\n",
       "      <th>1</th>\n",
       "      <td>2</td>\n",
       "      <td>38.0</td>\n",
       "      <td>71.2833</td>\n",
       "      <td>1</td>\n",
       "      <td>1</td>\n",
       "      <td>0</td>\n",
       "      <td>0</td>\n",
       "      <td>1</td>\n",
       "      <td>0.0</td>\n",
       "      <td>1</td>\n",
       "    </tr>\n",
       "    <tr>\n",
       "      <th>2</th>\n",
       "      <td>3</td>\n",
       "      <td>26.0</td>\n",
       "      <td>7.9250</td>\n",
       "      <td>1</td>\n",
       "      <td>0</td>\n",
       "      <td>0</td>\n",
       "      <td>0</td>\n",
       "      <td>3</td>\n",
       "      <td>2.0</td>\n",
       "      <td>1</td>\n",
       "    </tr>\n",
       "    <tr>\n",
       "      <th>3</th>\n",
       "      <td>4</td>\n",
       "      <td>35.0</td>\n",
       "      <td>53.1000</td>\n",
       "      <td>1</td>\n",
       "      <td>1</td>\n",
       "      <td>0</td>\n",
       "      <td>0</td>\n",
       "      <td>1</td>\n",
       "      <td>2.0</td>\n",
       "      <td>1</td>\n",
       "    </tr>\n",
       "    <tr>\n",
       "      <th>4</th>\n",
       "      <td>5</td>\n",
       "      <td>35.0</td>\n",
       "      <td>8.0500</td>\n",
       "      <td>0</td>\n",
       "      <td>0</td>\n",
       "      <td>0</td>\n",
       "      <td>0</td>\n",
       "      <td>3</td>\n",
       "      <td>2.0</td>\n",
       "      <td>0</td>\n",
       "    </tr>\n",
       "  </tbody>\n",
       "</table>\n",
       "</div>"
      ],
      "text/plain": [
       "   Passengerid   Age     Fare  Sex  sibsp  Parch  zero  Pclass  Embarked  \\\n",
       "0            1  22.0   7.2500    0      1      0     0       3       2.0   \n",
       "1            2  38.0  71.2833    1      1      0     0       1       0.0   \n",
       "2            3  26.0   7.9250    1      0      0     0       3       2.0   \n",
       "3            4  35.0  53.1000    1      1      0     0       1       2.0   \n",
       "4            5  35.0   8.0500    0      0      0     0       3       2.0   \n",
       "\n",
       "   Survived  \n",
       "0         0  \n",
       "1         1  \n",
       "2         1  \n",
       "3         1  \n",
       "4         0  "
      ]
     },
     "execution_count": 3,
     "metadata": {},
     "output_type": "execute_result"
    }
   ],
   "source": [
    "Titanic_Data.head()"
   ]
  },
  {
   "cell_type": "code",
   "execution_count": 4,
   "metadata": {},
   "outputs": [
    {
     "name": "stdout",
     "output_type": "stream",
     "text": [
      "Total number of records are : 1309\n",
      "<class 'pandas.core.frame.DataFrame'>\n",
      "RangeIndex: 1309 entries, 0 to 1308\n",
      "Data columns (total 10 columns):\n",
      " #   Column       Non-Null Count  Dtype  \n",
      "---  ------       --------------  -----  \n",
      " 0   Passengerid  1309 non-null   int64  \n",
      " 1   Age          1309 non-null   float64\n",
      " 2   Fare         1309 non-null   float64\n",
      " 3   Sex          1309 non-null   int64  \n",
      " 4   sibsp        1309 non-null   int64  \n",
      " 5   Parch        1309 non-null   int64  \n",
      " 6   zero         1309 non-null   int64  \n",
      " 7   Pclass       1309 non-null   int64  \n",
      " 8   Embarked     1307 non-null   float64\n",
      " 9   Survived     1309 non-null   int64  \n",
      "dtypes: float64(3), int64(7)\n",
      "memory usage: 102.4 KB\n",
      "Data Information : None\n"
     ]
    }
   ],
   "source": [
    "print(\"Total number of records are :\",len(Titanic_Data))\n",
    "print(\"Data Information :\",Titanic_Data.info())"
   ]
  },
  {
   "cell_type": "code",
   "execution_count": 5,
   "metadata": {},
   "outputs": [
    {
     "name": "stdout",
     "output_type": "stream",
     "text": [
      "Describe :         Passengerid          Age         Fare          Sex        sibsp  \\\n",
      "count  1309.000000  1309.000000  1309.000000  1309.000000  1309.000000   \n",
      "mean    655.000000    29.503186    33.281086     0.355997     0.498854   \n",
      "std     378.020061    12.905241    51.741500     0.478997     1.041658   \n",
      "min       1.000000     0.170000     0.000000     0.000000     0.000000   \n",
      "25%     328.000000    22.000000     7.895800     0.000000     0.000000   \n",
      "50%     655.000000    28.000000    14.454200     0.000000     0.000000   \n",
      "75%     982.000000    35.000000    31.275000     1.000000     1.000000   \n",
      "max    1309.000000    80.000000   512.329200     1.000000     8.000000   \n",
      "\n",
      "             Parch    zero       Pclass     Embarked     Survived  \n",
      "count  1309.000000  1309.0  1309.000000  1307.000000  1309.000000  \n",
      "mean      0.385027     0.0     2.294882     1.492731     0.261268  \n",
      "std       0.865560     0.0     0.837836     0.814626     0.439494  \n",
      "min       0.000000     0.0     1.000000     0.000000     0.000000  \n",
      "25%       0.000000     0.0     2.000000     1.000000     0.000000  \n",
      "50%       0.000000     0.0     3.000000     2.000000     0.000000  \n",
      "75%       0.000000     0.0     3.000000     2.000000     1.000000  \n",
      "max       9.000000     0.0     3.000000     2.000000     1.000000  \n"
     ]
    }
   ],
   "source": [
    "print(\"Describe : \",Titanic_Data.describe())"
   ]
  },
  {
   "cell_type": "markdown",
   "metadata": {},
   "source": [
    "# Step 2 Analyse the data"
   ]
  },
  {
   "cell_type": "code",
   "execution_count": 6,
   "metadata": {},
   "outputs": [
    {
     "name": "stdout",
     "output_type": "stream",
     "text": [
      "Visualization of Servived and non- servived passengers\n"
     ]
    },
    {
     "data": {
      "image/png": "[encoded data removed]",
      "text/plain": [
       "<Figure size 432x288 with 1 Axes>"
      ]
     },
     "metadata": {
      "needs_background": "light"
     },
     "output_type": "display_data"
    }
   ],
   "source": [
    "print(\"Visualization of Servived and non- servived passengers\")\n",
    "figure()\n",
    "countplot().set_title(\"Survived vs Non-Survived\")\n",
    "countplot(data=Titanic_Data,x=\"Survived\")\n",
    "show()"
   ]
  },
  {
   "cell_type": "code",
   "execution_count": 8,
   "metadata": {},
   "outputs": [
    {
     "name": "stdout",
     "output_type": "stream",
     "text": [
      "Visualization According to Sex\n"
     ]
    },
    {
     "data": {
      "image/png": "[encoded data removed]",
      "text/plain": [
       "<Figure size 432x288 with 1 Axes>"
      ]
     },
     "metadata": {
      "needs_background": "light"
     },
     "output_type": "display_data"
    }
   ],
   "source": [
    "print(\"Visualization According to Sex\")\n",
    "figure()\n",
    "countplot().set_title(\"According to Sex\")\n",
    "countplot(data=Titanic_Data,x=\"Survived\",hue=\"Sex\")\n",
    "show()"
   ]
  },
  {
   "cell_type": "code",
   "execution_count": 9,
   "metadata": {},
   "outputs": [
    {
     "name": "stdout",
     "output_type": "stream",
     "text": [
      "Visualization According to Pclass\n"
     ]
    },
    {
     "data": {
      "image/png": "[encoded data removed]",
      "text/plain": [
       "<Figure size 432x288 with 1 Axes>"
      ]
     },
     "metadata": {
      "needs_background": "light"
     },
     "output_type": "display_data"
    }
   ],
   "source": [
    "print(\"Visualization According to Pclass\")\n",
    "figure()\n",
    "countplot().set_title(\"According to Pclass\")\n",
    "countplot(data=Titanic_Data,x=\"Survived\",hue=\"Pclass\")\n",
    "show()"
   ]
  },
  {
   "cell_type": "code",
   "execution_count": 10,
   "metadata": {},
   "outputs": [
    {
     "name": "stdout",
     "output_type": "stream",
     "text": [
      "Survived vs Non-Survived based on Age\n"
     ]
    },
    {
     "data": {
      "image/png": "[encoded data removed]",
      "text/plain": [
       "<Figure size 432x288 with 1 Axes>"
      ]
     },
     "metadata": {
      "needs_background": "light"
     },
     "output_type": "display_data"
    }
   ],
   "source": [
    "print(\"Survived vs Non-Survived based on Age\")\n",
    "figure()\n",
    "Titanic_Data[\"Age\"].plot.hist().set_title(\"Survived vs Non-Survived based on Age\")\n",
    "show()"
   ]
  },
  {
   "cell_type": "markdown",
   "metadata": {},
   "source": [
    "# step 3 - cleaning data"
   ]
  },
  {
   "cell_type": "code",
   "execution_count": 11,
   "metadata": {},
   "outputs": [
    {
     "name": "stdout",
     "output_type": "stream",
     "text": [
      "data after column removal\n",
      "   Passengerid   Age     Fare  Sex  sibsp  Parch  Pclass  Embarked  Survived\n",
      "0            1  22.0   7.2500    0      1      0       3       2.0         0\n",
      "1            2  38.0  71.2833    1      1      0       1       0.0         1\n",
      "2            3  26.0   7.9250    1      0      0       3       2.0         1\n",
      "3            4  35.0  53.1000    1      1      0       1       2.0         1\n",
      "4            5  35.0   8.0500    0      0      0       3       2.0         0\n"
     ]
    }
   ],
   "source": [
    "Titanic_Data.drop(\"zero\",axis=1,inplace=True)\n",
    "print(\"data after column removal\")\n",
    "print(Titanic_Data.head())"
   ]
  },
  {
   "cell_type": "code",
   "execution_count": 12,
   "metadata": {},
   "outputs": [
    {
     "name": "stdout",
     "output_type": "stream",
     "text": [
      "sex column after get_dummies cha use  \n",
      "   0  1\n",
      "0  1  0\n",
      "1  0  1\n",
      "2  0  1\n",
      "3  0  1\n",
      "4  1  0\n"
     ]
    }
   ],
   "source": [
    "print(\"sex column after get_dummies cha use  \")\n",
    "Sex=pd.get_dummies(Titanic_Data[\"Sex\"])\n",
    "print(Sex.head())"
   ]
  },
  {
   "cell_type": "code",
   "execution_count": 13,
   "metadata": {},
   "outputs": [
    {
     "name": "stdout",
     "output_type": "stream",
     "text": [
      "sex column after updation\n",
      "   1\n",
      "0  0\n",
      "1  1\n",
      "2  1\n",
      "3  1\n",
      "4  0\n"
     ]
    }
   ],
   "source": [
    "Sex=pd.get_dummies(Titanic_Data[\"Sex\"],drop_first=True)\n",
    "print(\"sex column after updation\")\n",
    "print(Sex.head())"
   ]
  },
  {
   "cell_type": "code",
   "execution_count": 14,
   "metadata": {},
   "outputs": [
    {
     "name": "stdout",
     "output_type": "stream",
     "text": [
      "pclass column after get_dummies cha use  \n",
      "   1  2  3\n",
      "0  0  0  1\n",
      "1  1  0  0\n",
      "2  0  0  1\n",
      "3  1  0  0\n",
      "4  0  0  1\n"
     ]
    }
   ],
   "source": [
    "print(\"pclass column after get_dummies cha use  \")\n",
    "pclass=pd.get_dummies(Titanic_Data[\"Pclass\"])\n",
    "print(pclass.head())"
   ]
  },
  {
   "cell_type": "code",
   "execution_count": 15,
   "metadata": {},
   "outputs": [
    {
     "name": "stdout",
     "output_type": "stream",
     "text": [
      "pclass column after updation\n",
      "   2  3\n",
      "0  0  1\n",
      "1  0  0\n",
      "2  0  1\n",
      "3  0  0\n",
      "4  0  1\n"
     ]
    }
   ],
   "source": [
    "Pclass=pd.get_dummies(Titanic_Data[\"Pclass\"],drop_first=True)\n",
    "print(\"pclass column after updation\")\n",
    "print(Pclass.head())"
   ]
  },
  {
   "cell_type": "markdown",
   "metadata": {},
   "source": [
    "# Concat Sex and Pclass feild in our dataset"
   ]
  },
  {
   "cell_type": "code",
   "execution_count": 16,
   "metadata": {},
   "outputs": [
    {
     "name": "stdout",
     "output_type": "stream",
     "text": [
      "Data After Concatantion : \n",
      "   Passengerid   Age     Fare  Sex  sibsp  Parch  Pclass  Embarked  Survived  \\\n",
      "0            1  22.0   7.2500    0      1      0       3       2.0         0   \n",
      "1            2  38.0  71.2833    1      1      0       1       0.0         1   \n",
      "2            3  26.0   7.9250    1      0      0       3       2.0         1   \n",
      "3            4  35.0  53.1000    1      1      0       1       2.0         1   \n",
      "4            5  35.0   8.0500    0      0      0       3       2.0         0   \n",
      "\n",
      "   1  2  3  \n",
      "0  0  0  1  \n",
      "1  1  0  0  \n",
      "2  1  0  1  \n",
      "3  1  0  0  \n",
      "4  0  0  1  \n"
     ]
    }
   ],
   "source": [
    "Titanic_Data = pd.concat([Titanic_Data,Sex,Pclass],axis=1)\n",
    "print(\"Data After Concatantion : \")\n",
    "print(Titanic_Data.head())"
   ]
  },
  {
   "cell_type": "markdown",
   "metadata": {},
   "source": [
    "# Removing unneccessary fields "
   ]
  },
  {
   "cell_type": "code",
   "execution_count": 17,
   "metadata": {},
   "outputs": [
    {
     "name": "stdout",
     "output_type": "stream",
     "text": [
      "Data After Column Removation : \n",
      "   Passengerid   Age     Fare  Survived  1  2  3\n",
      "0            1  22.0   7.2500         0  0  0  1\n",
      "1            2  38.0  71.2833         1  1  0  0\n",
      "2            3  26.0   7.9250         1  1  0  1\n",
      "3            4  35.0  53.1000         1  1  0  0\n",
      "4            5  35.0   8.0500         0  0  0  1\n"
     ]
    }
   ],
   "source": [
    "Titanic_Data.drop([\"Sex\",\"sibsp\",\"Parch\",\"Pclass\",\"Embarked\"],axis=1,inplace=True)\n",
    "print(\"Data After Column Removation : \")\n",
    "print(Titanic_Data.head())"
   ]
  },
  {
   "cell_type": "markdown",
   "metadata": {},
   "source": [
    "# Divide dataset into x and yield"
   ]
  },
  {
   "cell_type": "code",
   "execution_count": 18,
   "metadata": {},
   "outputs": [],
   "source": [
    "x = Titanic_Data.drop(\"Survived\",axis=1)\n",
    "y = Titanic_Data[\"Survived\"]"
   ]
  },
  {
   "cell_type": "markdown",
   "metadata": {},
   "source": [
    "# Split the Data for training and testing purpose"
   ]
  },
  {
   "cell_type": "code",
   "execution_count": 22,
   "metadata": {},
   "outputs": [],
   "source": [
    "x_train,x_test,y_train,y_test = train_test_split(x,y,test_size=0.5)\n",
    "obj = LogisticRegression(max_iter=2000)"
   ]
  },
  {
   "cell_type": "markdown",
   "metadata": {},
   "source": [
    "# Step 4 -> Train the Dataset"
   ]
  },
  {
   "cell_type": "code",
   "execution_count": 23,
   "metadata": {},
   "outputs": [
    {
     "data": {
      "text/plain": [
       "LogisticRegression(max_iter=2000)"
      ]
     },
     "execution_count": 23,
     "metadata": {},
     "output_type": "execute_result"
    }
   ],
   "source": [
    "obj.fit(x_train,y_train)"
   ]
  },
  {
   "cell_type": "markdown",
   "metadata": {},
   "source": [
    "# Step 5 -> Testing"
   ]
  },
  {
   "cell_type": "code",
   "execution_count": 24,
   "metadata": {},
   "outputs": [],
   "source": [
    "output = obj.predict(x_test)"
   ]
  },
  {
   "cell_type": "markdown",
   "metadata": {},
   "source": [
    "# Accuracy"
   ]
  },
  {
   "cell_type": "code",
   "execution_count": 26,
   "metadata": {},
   "outputs": [
    {
     "name": "stdout",
     "output_type": "stream",
     "text": [
      "Accuracy of given Dataset is :\n",
      "85.95419847328245 %\n"
     ]
    }
   ],
   "source": [
    "print(\"Accuracy of given Dataset is :\")\n",
    "print(accuracy_score(y_test,output)*100,\"%\")"
   ]
  },
  {
   "cell_type": "markdown",
   "metadata": {},
   "source": [
    "# Confusion Matrix"
   ]
  },
  {
   "cell_type": "code",
   "execution_count": 27,
   "metadata": {},
   "outputs": [
    {
     "name": "stdout",
     "output_type": "stream",
     "text": [
      "Confusion Matrix [[462  22]\n",
      " [ 70 101]]\n"
     ]
    }
   ],
   "source": [
    "matrix = confusion_matrix(y_test,output)\n",
    "print(\"Confusion Matrix\",matrix)"
   ]
  },
  {
   "cell_type": "code",
   "execution_count": null,
   "metadata": {},
   "outputs": [],
   "source": []
  }
 ],
 "metadata": {
  "kernelspec": {
   "display_name": "Python 3",
   "language": "python",
   "name": "python3"
  },
  "language_info": {
   "codemirror_mode": {
    "name": "ipython",
    "version": 3
   },
   "file_extension": ".py",
   "mimetype": "text/x-python",
   "name": "python",
   "nbconvert_exporter": "python",
   "pygments_lexer": "ipython3",
   "version": "3.8.5"
  }
 },
 "nbformat": 4,
 "nbformat_minor": 4
}
